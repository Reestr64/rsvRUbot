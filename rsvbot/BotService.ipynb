{
 "cells": [
  {
   "cell_type": "code",
   "execution_count": 3,
   "metadata": {},
   "outputs": [
    {
     "name": "stdout",
     "output_type": "stream",
     "text": [
      "--2021-04-06 15:49:48--  https://bin.equinox.io/c/4VmDzA7iaHb/ngrok-stable-linux-amd64.zip\n",
      "Распознаётся bin.equinox.io (bin.equinox.io)… 52.55.225.227, 35.171.215.128, 54.235.211.105, ...\n",
      "Подключение к bin.equinox.io (bin.equinox.io)|52.55.225.227|:443... соединение установлено.\n",
      "HTTP-запрос отправлен. Ожидание ответа… 200 OK\n",
      "Длина: 14746350 (14M) [application/octet-stream]\n",
      "Сохранение в: «ngrok-stable-linux-amd64.zip.2»\n",
      "\n",
      "ngrok-stable-linux- 100%[===================>]  14,06M  2,69MB/s    за 6,3s    \n",
      "\n",
      "2021-04-06 15:49:55 (2,25 MB/s) - «ngrok-stable-linux-amd64.zip.2» сохранён [14746350/14746350]\n",
      "\n",
      "Archive:  ngrok-stable-linux-amd64.zip\n",
      "  inflating: ngrok                   \n"
     ]
    }
   ],
   "source": [
    "!wget https://bin.equinox.io/c/4VmDzA7iaHb/ngrok-stable-linux-amd64.zip\n",
    "!unzip -o ngrok-stable-linux-amd64.zip"
   ]
  },
  {
   "cell_type": "code",
   "execution_count": 4,
   "metadata": {},
   "outputs": [],
   "source": [
    "import flask\n",
    "from IPython import get_ipython\n",
    "import random\n",
    "import json\n",
    "\n",
    "import torch\n",
    "\n",
    "from botModel import NeuralNet\n",
    "from botUtils import wdBag, token\n",
    "\n",
    "get_ipython().system_raw('python3 bot.py &')\n",
    "get_ipython().system_raw('./ngrok http 5000 &')\n"
   ]
  },
  {
   "cell_type": "code",
   "execution_count": 5,
   "metadata": {},
   "outputs": [
    {
     "name": "stdout",
     "output_type": "stream",
     "text": [
      "Traceback (most recent call last):\n",
      "  File \"<string>\", line 1, in <module>\n",
      "IndexError: list index out of range\n"
     ]
    }
   ],
   "source": [
    "! curl -s http://localhost:4040/api/tunnels | python3 -c \\\n",
    "    \"import sys, json; print(json.load(sys.stdin)['tunnels'][0]['public_url'])\""
   ]
  }
 ],
 "metadata": {
  "kernelspec": {
   "display_name": "Python 3.6.9  ('rsvbot': venv)",
   "name": "pythonjvsc74a57bd085139bc868f5ba20badeb450dc131a2afa0b107e3fb8b21e3ac79aa8e3340e79"
  },
  "language_info": {
   "codemirror_mode": {
    "name": "ipython",
    "version": 3
   },
   "file_extension": ".py",
   "mimetype": "text/x-python",
   "name": "python",
   "nbconvert_exporter": "python",
   "pygments_lexer": "ipython3",
   "version": "3.6.9"
  },
  "metadata": {
   "interpreter": {
    "hash": "85139bc868f5ba20badeb450dc131a2afa0b107e3fb8b21e3ac79aa8e3340e79"
   }
  },
  "orig_nbformat": 2
 },
 "nbformat": 4,
 "nbformat_minor": 2
}